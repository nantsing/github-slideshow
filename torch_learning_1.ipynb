{
  "nbformat": 4,
  "nbformat_minor": 0,
  "metadata": {
    "colab": {
      "name": "torch_learning_1.ipynb",
      "provenance": [],
      "collapsed_sections": [],
      "authorship_tag": "ABX9TyMAJykNJLdMSp8+hu/Q7i4D",
      "include_colab_link": true
    },
    "kernelspec": {
      "name": "python3",
      "display_name": "Python 3"
    },
    "language_info": {
      "name": "python"
    }
  },
  "cells": [
    {
      "cell_type": "markdown",
      "metadata": {
        "id": "view-in-github",
        "colab_type": "text"
      },
      "source": [
        "<a href=\"https://colab.research.google.com/github/nantsing/github-slideshow/blob/master/torch_learning_1.ipynb\" target=\"_parent\"><img src=\"https://colab.research.google.com/assets/colab-badge.svg\" alt=\"Open In Colab\"/></a>"
      ]
    },
    {
      "cell_type": "code",
      "metadata": {
        "id": "tOSdnt65KCfu"
      },
      "source": [
        "import torch\n",
        "from torch.autograd import Variable\n",
        "import torch.nn.functional as F\n",
        "import numpy as np\n",
        "import matplotlib.pyplot as plt"
      ],
      "execution_count": 123,
      "outputs": []
    },
    {
      "cell_type": "markdown",
      "metadata": {
        "id": "TkKQEcOLLAjA"
      },
      "source": [
        "导入torch、numpy和matploylib\n",
        "\n"
      ]
    },
    {
      "cell_type": "code",
      "metadata": {
        "colab": {
          "base_uri": "https://localhost:8080/",
          "height": 265
        },
        "id": "pg3cg_lzLGg6",
        "outputId": "47afefd9-1a7c-438c-86ae-a4cdcb42be47"
      },
      "source": [
        "x = torch.unsqueeze(torch.linspace(-1,1,100),dim=1)\n",
        "y = x.pow(2) + 0.2 * torch.rand(x.size());\n",
        "\n",
        "x, y = Variable(x), Variable(y);\n",
        "\n",
        "#print(x)\n",
        "#print(y)\n",
        "\n",
        "plt.scatter(x.data.numpy(), y.data.numpy())\n",
        "plt.show()\n"
      ],
      "execution_count": 124,
      "outputs": [
        {
          "output_type": "display_data",
          "data": {
            "image/png": "[encoded data removed]",
            "text/plain": [
              "<Figure size 432x288 with 1 Axes>"
            ]
          },
          "metadata": {
            "needs_background": "light"
          }
        }
      ]
    },
    {
      "cell_type": "markdown",
      "metadata": {
        "id": "EsbbhYseQkkI"
      },
      "source": [
        ""
      ]
    },
    {
      "cell_type": "code",
      "metadata": {
        "colab": {
          "base_uri": "https://localhost:8080/"
        },
        "id": "KTfKeRx0Qlae",
        "outputId": "5777bf1e-2f75-404e-a6c3-7a57af418382"
      },
      "source": [
        "class Net(torch.nn.Module):\n",
        "  def __init__(self, n_feature, n_hidden, n_output):\n",
        "    super(Net, self).__init__()\n",
        "    self.hidden = torch.nn.Linear(n_feature, n_hidden)\n",
        "    self.predict = torch.nn.Linear(n_hidden, n_output)\n",
        "\n",
        "  def forward(self, x):\n",
        "    x = F.relu(self.hidden(x))\n",
        "    x = self.predict(x)\n",
        "    return x\n",
        "\n",
        "net = Net(1, 10, 1) #一个feature，十个神经元，一个输出；\n",
        "print(net)\n",
        "\n",
        "#prediction = net(x)"
      ],
      "execution_count": 125,
      "outputs": [
        {
          "output_type": "stream",
          "name": "stdout",
          "text": [
            "Net(\n",
            "  (hidden): Linear(in_features=1, out_features=10, bias=True)\n",
            "  (predict): Linear(in_features=10, out_features=1, bias=True)\n",
            ")\n"
          ]
        }
      ]
    },
    {
      "cell_type": "markdown",
      "metadata": {
        "id": "EBg0HH51Seqq"
      },
      "source": [
        "建立神经网络"
      ]
    },
    {
      "cell_type": "code",
      "metadata": {
        "id": "sNpxxZ5nSmd4"
      },
      "source": [
        "plt.ion()\n",
        "plt.show()\n",
        "\n",
        "optimizer = torch.optim.SGD(net.parameters(), lr=0.5) #lr = learning rate\n",
        "loss_func = torch.nn.MSELoss()\n",
        "\n",
        "for t in range(100):\n",
        "  prediction = net(x)\n",
        "\n",
        "  loss = loss_func(prediction, y)\n",
        "\n",
        "  optimizer.zero_grad()\n",
        "  loss.backward()\n",
        "  optimizer.step()\n",
        "  if t % 5 == 0:\n",
        "    #plot and show learing process\n",
        "    plt.cla()\n",
        "    plt.scatter(x.data.numpy(), y.data.numpy())\n",
        "    plt.plot(x.data.numpy(), prediction.data.numpy(), 'r-', lw=5)\n",
        "    plt.text(0.5, 0, 'Loss=%.4f' % loss.data, fontdict = {'size':20, 'color': 'red', })\n",
        "    plt.pause(0.1)\n",
        "\n",
        "plt.ioff()\n",
        "plt.show()\n",
        "\n"
      ],
      "execution_count": null,
      "outputs": []
    }
  ]
}